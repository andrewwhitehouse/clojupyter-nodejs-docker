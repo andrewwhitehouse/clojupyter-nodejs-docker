{
 "cells": [
  {
   "cell_type": "markdown",
   "metadata": {},
   "source": [
    "## Welcome\n",
    "\n",
    "to this introductory, **PRO Special Edition**, Clojure Tutorial!\n",
    "\n",
    "This is a simple Jupyter notebook with added support for the [Clojure](https://clojure.org/) language.\n",
    "\n",
    "We're going to write our first Clojure code together.\n",
    "\n",
    "This isn't one of those lectures where I talk (/write) and you listen (/read). This is **co-creation**. You can actualy run and change code in this notebook!"
   ]
  },
  {
   "cell_type": "markdown",
   "metadata": {},
   "source": [
    "**Let's call a function.**"
   ]
  },
  {
   "cell_type": "markdown",
   "metadata": {},
   "source": [
    "A common way to build software systems is to compose them of *functions*, which have well-defined responsibilities. So functions are important."
   ]
  },
  {
   "cell_type": "markdown",
   "metadata": {},
   "source": [
    "In Clojure, a function call looks like this:\n",
    "```\n",
    "(function-name argument-1 argument-2 ... argument-n)\n",
    "```\n",
    "\n",
    "The function is the first thing after the left bracket.\n",
    "\n",
    "Clojure is a type of [LISP](https://en.wikipedia.org/wiki/Lisp_(programming_language)), which has these type of expressions in brackets called `s-expressions`, or `forms`."
   ]
  },
  {
   "cell_type": "markdown",
   "metadata": {},
   "source": [
    "The cell below is one you can actually run. It runs on the server where this notebook is hosted.\n",
    "\n",
    "Click into the cell, hold down SHIFT and press ENTER."
   ]
  },
  {
   "cell_type": "code",
   "execution_count": 9,
   "metadata": {},
   "outputs": [
    {
     "name": "stdout",
     "output_type": "stream",
     "text": [
      "Hello World\n"
     ]
    },
    {
     "data": {
      "text/plain": [
       "nil"
      ]
     },
     "execution_count": 9,
     "metadata": {},
     "output_type": "execute_result"
    }
   ],
   "source": [
    "(println \"Hello World\")"
   ]
  },
  {
   "cell_type": "markdown",
   "metadata": {},
   "source": [
    "Hopefully you saw the message \"Hello World\" printed. If you did, **congratulations**!"
   ]
  },
  {
   "cell_type": "markdown",
   "metadata": {},
   "source": [
    "When meeting a new programming language for the first time, it's customary to write a small _Hello World_ to show that you can run code successfully. This tradition was started in 1972 by Brian Kernighan, and first published in the book _The C Programming Language_.\n",
    "\n",
    "Let's try a couple of other things. In the cell below, change `World` to your name and then run the cell contents with SHIFT-ENTER."
   ]
  },
  {
   "cell_type": "code",
   "execution_count": 10,
   "metadata": {},
   "outputs": [
    {
     "name": "stdout",
     "output_type": "stream",
     "text": [
      "Hello Andrew\n"
     ]
    },
    {
     "data": {
      "text/plain": [
       "nil"
      ]
     },
     "execution_count": 10,
     "metadata": {},
     "output_type": "execute_result"
    }
   ],
   "source": [
    "(println \"Hello Andrew\")"
   ]
  },
  {
   "cell_type": "markdown",
   "metadata": {},
   "source": [
    "Now let's break it. This is a safe space to try things out. \n",
    "\n",
    "Delete the ')' and run the cell contents. You should see a message that starts `EOF while reading` which tells you the interpreter was expecting to receive more code than you gave it."
   ]
  },
  {
   "cell_type": "code",
   "execution_count": 12,
   "metadata": {},
   "outputs": [
    {
     "name": "stdout",
     "output_type": "stream",
     "text": [
      "Hello Andrew\n"
     ]
    },
    {
     "data": {
      "text/plain": [
       "nil"
      ]
     },
     "execution_count": 12,
     "metadata": {},
     "output_type": "execute_result"
    }
   ],
   "source": [
    "(println \"Hello Andrew\")"
   ]
  },
  {
   "cell_type": "markdown",
   "metadata": {},
   "source": [
    "Fix the error by adding the ')' back."
   ]
  },
  {
   "cell_type": "markdown",
   "metadata": {},
   "source": [
    "Let's suppose now that we wanted to say hello to two people."
   ]
  },
  {
   "cell_type": "code",
   "execution_count": 15,
   "metadata": {},
   "outputs": [
    {
     "name": "stdout",
     "output_type": "stream",
     "text": [
      "Hello Bob, how are you today?\n",
      "Hello Alice, how are you today?\n"
     ]
    },
    {
     "data": {
      "text/plain": [
       "nil"
      ]
     },
     "execution_count": 15,
     "metadata": {},
     "output_type": "execute_result"
    }
   ],
   "source": [
    "(println \"Hello Bob, how are you today?\")\n",
    "(println \"Hello Alice, how are you today?\")"
   ]
  },
  {
   "cell_type": "markdown",
   "metadata": {},
   "source": [
    "That's fine, but you can see that we are duplicating most of the code there. \n",
    "\n",
    "When writing software we don't like to repeat ourselves because it means we have to make future changes in multiple places, which takes longer and is more likely to lead to mistakes.\n",
    "\n",
    "This is so important to software developers that it's been given a name: the [DRY](https://en.wikipedia.org/wiki/Don%27t_repeat_yourself) Principle.\n",
    "\n",
    "As our system evolves we really want to make changes in one place. So let's refactor this into a function."
   ]
  },
  {
   "cell_type": "code",
   "execution_count": 21,
   "metadata": {},
   "outputs": [
    {
     "data": {
      "text/plain": [
       "#'user/hello"
      ]
     },
     "execution_count": 21,
     "metadata": {},
     "output_type": "execute_result"
    }
   ],
   "source": [
    "(defn hello [name]\n",
    "    (println \"Hello\" (str name \",\") \"how are you today?\"))"
   ]
  },
  {
   "cell_type": "markdown",
   "metadata": {},
   "source": [
    "Here we're using `defn` to define a function called `hello` with a parameter called `name`. The parameter that we pass to `hello` is \"bound\" to name and we can then use it elsewhere in our function.\n",
    "\n",
    "Also note that println helpfully adds spaces between the strings we pass to it and so we've also called the `str` function to override that behaviour for the comma.\n",
    "\n",
    "Run the cell above (SHIFT-ENTER) and then the one below. Add another call with a different name if you like."
   ]
  },
  {
   "cell_type": "code",
   "execution_count": 23,
   "metadata": {},
   "outputs": [
    {
     "name": "stdout",
     "output_type": "stream",
     "text": [
      "Hello Bob, how are you today?\n",
      "Hello Alice, how are you today?\n",
      "Hello Jim, how are you today?\n"
     ]
    },
    {
     "data": {
      "text/plain": [
       "nil"
      ]
     },
     "execution_count": 23,
     "metadata": {},
     "output_type": "execute_result"
    }
   ],
   "source": [
    "(hello \"Bob\")\n",
    "(hello \"Alice\")\n",
    "(hello \"Jim\")"
   ]
  },
  {
   "cell_type": "markdown",
   "metadata": {},
   "source": [
    "If you enjoyed this tutorial tell your friends. If not, tell Andrew. \n",
    "\n",
    "Feedback is welcome."
   ]
  }
 ],
 "metadata": {
  "kernelspec": {
   "display_name": "Clojure (clojupyter-0.3.2)",
   "language": "clojure",
   "name": "clojupyter-0.3.2"
  },
  "language_info": {
   "file_extension": ".clj",
   "mimetype": "text/x-clojure",
   "name": "clojure",
   "version": "1.10.1"
  }
 },
 "nbformat": 4,
 "nbformat_minor": 4
}
